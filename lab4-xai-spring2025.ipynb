{
 "cells": [
  {
   "cell_type": "code",
   "execution_count": 1,
   "id": "c465c836-d54b-451c-b3b1-b4c62c97a1b5",
   "metadata": {},
   "outputs": [],
   "source": [
    "# pip install --user dice-ml"
   ]
  },
  {
   "cell_type": "code",
   "execution_count": 2,
   "id": "97b1c214-0221-4650-8bf9-92710c1ff1ea",
   "metadata": {},
   "outputs": [
    {
     "name": "stderr",
     "output_type": "stream",
     "text": [
      "/Library/Frameworks/Python.framework/Versions/3.11/lib/python3.11/site-packages/tqdm/auto.py:21: TqdmWarning: IProgress not found. Please update jupyter and ipywidgets. See https://ipywidgets.readthedocs.io/en/stable/user_install.html\n",
      "  from .autonotebook import tqdm as notebook_tqdm\n"
     ]
    }
   ],
   "source": [
    "import shap\n",
    "import matplotlib.pyplot as plt\n",
    "import pickle\n",
    "import pandas as pd\n",
    "import dice_ml"
   ]
  },
  {
   "cell_type": "markdown",
   "id": "583fad26-f3f6-4560-908b-3cf243a5773c",
   "metadata": {},
   "source": [
    "#### 1 - load your data"
   ]
  },
  {
   "cell_type": "code",
   "execution_count": 3,
   "id": "12e667be-3edb-4454-9f4e-a1cb808811d0",
   "metadata": {},
   "outputs": [],
   "source": [
    "x_test=pd.read_csv(\"X_test.csv\")\n",
    "x_train=pd.read_csv(\"X_train.csv\")\n",
    "y_test=pd.read_csv(\"y_test.csv\")\n",
    "y_train=pd.read_csv(\"y_train.csv\")\n",
    "oos=pd.read_csv(\"OOS.csv\")\n",
    "\n",
    "with open('model.pkl', 'rb') as file:\n",
    "    model = pickle.load(file)"
   ]
  },
  {
   "cell_type": "markdown",
   "id": "d4dfd362-e3cd-43d1-a366-aadc7cabc777",
   "metadata": {},
   "source": [
    "#### 2 - Data Preprocess (to make things work with Dice)"
   ]
  },
  {
   "cell_type": "code",
   "execution_count": 4,
   "id": "2c05087f-91ec-4178-9678-9869ba78bca3",
   "metadata": {},
   "outputs": [],
   "source": [
    "#########2.A Convert categorical columns to Category\n",
    "############################################\n",
    "\n",
    "# These features can either be a 1 or a 0 which indicates if its True or False\n",
    "# Without casting there may be values between the two which isn't possible\n",
    "categorical_features = ['location_mismatch', 'previous_fraud_flag']\n",
    "for col in categorical_features:\n",
    "    x_train[col] = x_train[col].astype('category')\n",
    "    x_test[col] = x_test[col].astype('category')\n",
    "    oos[col] = oos[col].astype('category')"
   ]
  },
  {
   "cell_type": "code",
   "execution_count": 5,
   "id": "40a9e443-e818-478b-8e11-668ce2fa90fe",
   "metadata": {},
   "outputs": [],
   "source": [
    "#########2.B Convert Numerical columns to Float\n",
    "############################################\n",
    "\n",
    "# Dice doesn't want to accept integers so you have to cast as a float\n",
    "continuous_int_features = ['num_transactions', 'customer_age', 'days_since_last_transaction']\n",
    "for col in continuous_int_features:\n",
    "    x_train[col] = x_train[col].astype(float)\n",
    "    x_test[col] = x_test[col].astype(float)\n",
    "    oos[col] = oos[col].astype(float)"
   ]
  },
  {
   "cell_type": "code",
   "execution_count": 6,
   "id": "09f65ccb",
   "metadata": {},
   "outputs": [
    {
     "data": {
      "text/html": [
       "<div>\n",
       "<style scoped>\n",
       "    .dataframe tbody tr th:only-of-type {\n",
       "        vertical-align: middle;\n",
       "    }\n",
       "\n",
       "    .dataframe tbody tr th {\n",
       "        vertical-align: top;\n",
       "    }\n",
       "\n",
       "    .dataframe thead th {\n",
       "        text-align: right;\n",
       "    }\n",
       "</style>\n",
       "<table border=\"1\" class=\"dataframe\">\n",
       "  <thead>\n",
       "    <tr style=\"text-align: right;\">\n",
       "      <th></th>\n",
       "      <th>trans_amount</th>\n",
       "      <th>account_balance</th>\n",
       "      <th>num_transactions</th>\n",
       "      <th>merchant_risk_score</th>\n",
       "      <th>customer_age</th>\n",
       "      <th>days_since_last_transaction</th>\n",
       "      <th>card_decline_rate</th>\n",
       "      <th>device_trust_score</th>\n",
       "      <th>location_mismatch</th>\n",
       "      <th>previous_fraud_flag</th>\n",
       "    </tr>\n",
       "  </thead>\n",
       "  <tbody>\n",
       "    <tr>\n",
       "      <th>0</th>\n",
       "      <td>4502.171939</td>\n",
       "      <td>20048.574074</td>\n",
       "      <td>16.0</td>\n",
       "      <td>0.352433</td>\n",
       "      <td>57.0</td>\n",
       "      <td>5.0</td>\n",
       "      <td>0.169705</td>\n",
       "      <td>0.735935</td>\n",
       "      <td>0.0</td>\n",
       "      <td>0.0</td>\n",
       "    </tr>\n",
       "    <tr>\n",
       "      <th>1</th>\n",
       "      <td>2619.677760</td>\n",
       "      <td>50686.336791</td>\n",
       "      <td>46.0</td>\n",
       "      <td>0.554910</td>\n",
       "      <td>75.0</td>\n",
       "      <td>20.0</td>\n",
       "      <td>0.718460</td>\n",
       "      <td>0.138276</td>\n",
       "      <td>0.0</td>\n",
       "      <td>0.0</td>\n",
       "    </tr>\n",
       "    <tr>\n",
       "      <th>2</th>\n",
       "      <td>581.385920</td>\n",
       "      <td>67222.012362</td>\n",
       "      <td>12.0</td>\n",
       "      <td>0.188041</td>\n",
       "      <td>30.0</td>\n",
       "      <td>18.0</td>\n",
       "      <td>0.770089</td>\n",
       "      <td>0.966178</td>\n",
       "      <td>0.0</td>\n",
       "      <td>0.0</td>\n",
       "    </tr>\n",
       "    <tr>\n",
       "      <th>3</th>\n",
       "      <td>2010.217726</td>\n",
       "      <td>91170.658730</td>\n",
       "      <td>49.0</td>\n",
       "      <td>0.859666</td>\n",
       "      <td>67.0</td>\n",
       "      <td>3.0</td>\n",
       "      <td>0.462328</td>\n",
       "      <td>0.821032</td>\n",
       "      <td>0.0</td>\n",
       "      <td>0.0</td>\n",
       "    </tr>\n",
       "    <tr>\n",
       "      <th>4</th>\n",
       "      <td>1041.735015</td>\n",
       "      <td>50265.984875</td>\n",
       "      <td>46.0</td>\n",
       "      <td>0.257755</td>\n",
       "      <td>54.0</td>\n",
       "      <td>6.0</td>\n",
       "      <td>0.714087</td>\n",
       "      <td>0.204483</td>\n",
       "      <td>0.0</td>\n",
       "      <td>0.0</td>\n",
       "    </tr>\n",
       "    <tr>\n",
       "      <th>5</th>\n",
       "      <td>3623.555294</td>\n",
       "      <td>145.790272</td>\n",
       "      <td>41.0</td>\n",
       "      <td>0.897814</td>\n",
       "      <td>26.0</td>\n",
       "      <td>0.0</td>\n",
       "      <td>0.731945</td>\n",
       "      <td>0.230540</td>\n",
       "      <td>1.0</td>\n",
       "      <td>1.0</td>\n",
       "    </tr>\n",
       "    <tr>\n",
       "      <th>6</th>\n",
       "      <td>4275.644359</td>\n",
       "      <td>261.587024</td>\n",
       "      <td>45.0</td>\n",
       "      <td>0.804748</td>\n",
       "      <td>24.0</td>\n",
       "      <td>1.0</td>\n",
       "      <td>0.847557</td>\n",
       "      <td>0.066494</td>\n",
       "      <td>1.0</td>\n",
       "      <td>1.0</td>\n",
       "    </tr>\n",
       "    <tr>\n",
       "      <th>7</th>\n",
       "      <td>4269.490050</td>\n",
       "      <td>4959.197959</td>\n",
       "      <td>48.0</td>\n",
       "      <td>1.000000</td>\n",
       "      <td>21.0</td>\n",
       "      <td>0.0</td>\n",
       "      <td>1.000000</td>\n",
       "      <td>0.000000</td>\n",
       "      <td>1.0</td>\n",
       "      <td>1.0</td>\n",
       "    </tr>\n",
       "    <tr>\n",
       "      <th>8</th>\n",
       "      <td>4242.714987</td>\n",
       "      <td>1067.278295</td>\n",
       "      <td>44.0</td>\n",
       "      <td>1.000000</td>\n",
       "      <td>24.0</td>\n",
       "      <td>0.0</td>\n",
       "      <td>1.000000</td>\n",
       "      <td>0.000000</td>\n",
       "      <td>1.0</td>\n",
       "      <td>1.0</td>\n",
       "    </tr>\n",
       "  </tbody>\n",
       "</table>\n",
       "</div>"
      ],
      "text/plain": [
       "   trans_amount  account_balance  num_transactions  merchant_risk_score  \\\n",
       "0   4502.171939     20048.574074              16.0             0.352433   \n",
       "1   2619.677760     50686.336791              46.0             0.554910   \n",
       "2    581.385920     67222.012362              12.0             0.188041   \n",
       "3   2010.217726     91170.658730              49.0             0.859666   \n",
       "4   1041.735015     50265.984875              46.0             0.257755   \n",
       "5   3623.555294       145.790272              41.0             0.897814   \n",
       "6   4275.644359       261.587024              45.0             0.804748   \n",
       "7   4269.490050      4959.197959              48.0             1.000000   \n",
       "8   4242.714987      1067.278295              44.0             1.000000   \n",
       "\n",
       "   customer_age  days_since_last_transaction  card_decline_rate  \\\n",
       "0          57.0                          5.0           0.169705   \n",
       "1          75.0                         20.0           0.718460   \n",
       "2          30.0                         18.0           0.770089   \n",
       "3          67.0                          3.0           0.462328   \n",
       "4          54.0                          6.0           0.714087   \n",
       "5          26.0                          0.0           0.731945   \n",
       "6          24.0                          1.0           0.847557   \n",
       "7          21.0                          0.0           1.000000   \n",
       "8          24.0                          0.0           1.000000   \n",
       "\n",
       "   device_trust_score location_mismatch previous_fraud_flag  \n",
       "0            0.735935               0.0                 0.0  \n",
       "1            0.138276               0.0                 0.0  \n",
       "2            0.966178               0.0                 0.0  \n",
       "3            0.821032               0.0                 0.0  \n",
       "4            0.204483               0.0                 0.0  \n",
       "5            0.230540               1.0                 1.0  \n",
       "6            0.066494               1.0                 1.0  \n",
       "7            0.000000               1.0                 1.0  \n",
       "8            0.000000               1.0                 1.0  "
      ]
     },
     "execution_count": 6,
     "metadata": {},
     "output_type": "execute_result"
    }
   ],
   "source": [
    "oos"
   ]
  },
  {
   "cell_type": "code",
   "execution_count": 7,
   "id": "daca8999",
   "metadata": {},
   "outputs": [
    {
     "data": {
      "text/plain": [
       "array([[0.82219797, 0.17780203],\n",
       "       [0.78469998, 0.21530002],\n",
       "       [0.81317294, 0.18682706],\n",
       "       [0.64402309, 0.35597691],\n",
       "       [0.79631334, 0.20368666],\n",
       "       [0.49599171, 0.50400829],\n",
       "       [0.56977766, 0.43022234],\n",
       "       [0.4599254 , 0.5400746 ],\n",
       "       [0.46610334, 0.53389666]])"
      ]
     },
     "execution_count": 7,
     "metadata": {},
     "output_type": "execute_result"
    }
   ],
   "source": [
    "model.predict_proba(oos)"
   ]
  },
  {
   "cell_type": "markdown",
   "id": "e9e664dd-c79e-4eb3-a422-6dfc028300c7",
   "metadata": {},
   "source": [
    "#### 3 - Let's choose a clear fraud example in our OOS"
   ]
  },
  {
   "cell_type": "code",
   "execution_count": 8,
   "id": "58ff11bc-af1e-4936-9cb9-7a257df84c7a",
   "metadata": {},
   "outputs": [
    {
     "name": "stdout",
     "output_type": "stream",
     "text": [
      "[[0.81317294 0.18682706]]\n"
     ]
    },
    {
     "data": {
      "text/html": [
       "<div>\n",
       "<style scoped>\n",
       "    .dataframe tbody tr th:only-of-type {\n",
       "        vertical-align: middle;\n",
       "    }\n",
       "\n",
       "    .dataframe tbody tr th {\n",
       "        vertical-align: top;\n",
       "    }\n",
       "\n",
       "    .dataframe thead th {\n",
       "        text-align: right;\n",
       "    }\n",
       "</style>\n",
       "<table border=\"1\" class=\"dataframe\">\n",
       "  <thead>\n",
       "    <tr style=\"text-align: right;\">\n",
       "      <th></th>\n",
       "      <th>trans_amount</th>\n",
       "      <th>account_balance</th>\n",
       "      <th>num_transactions</th>\n",
       "      <th>merchant_risk_score</th>\n",
       "      <th>customer_age</th>\n",
       "      <th>days_since_last_transaction</th>\n",
       "      <th>card_decline_rate</th>\n",
       "      <th>device_trust_score</th>\n",
       "      <th>location_mismatch</th>\n",
       "      <th>previous_fraud_flag</th>\n",
       "    </tr>\n",
       "  </thead>\n",
       "  <tbody>\n",
       "    <tr>\n",
       "      <th>2</th>\n",
       "      <td>581.38592</td>\n",
       "      <td>67222.012362</td>\n",
       "      <td>12.0</td>\n",
       "      <td>0.188041</td>\n",
       "      <td>30.0</td>\n",
       "      <td>18.0</td>\n",
       "      <td>0.770089</td>\n",
       "      <td>0.966178</td>\n",
       "      <td>0.0</td>\n",
       "      <td>0.0</td>\n",
       "    </tr>\n",
       "  </tbody>\n",
       "</table>\n",
       "</div>"
      ],
      "text/plain": [
       "   trans_amount  account_balance  num_transactions  merchant_risk_score  \\\n",
       "2     581.38592     67222.012362              12.0             0.188041   \n",
       "\n",
       "   customer_age  days_since_last_transaction  card_decline_rate  \\\n",
       "2          30.0                         18.0           0.770089   \n",
       "\n",
       "   device_trust_score location_mismatch previous_fraud_flag  \n",
       "2            0.966178               0.0                 0.0  "
      ]
     },
     "execution_count": 8,
     "metadata": {},
     "output_type": "execute_result"
    }
   ],
   "source": [
    "#########3 select out a fraud example\n",
    "############################################\n",
    "x0 = oos.iloc[2:3] \n",
    "print(model.predict_proba(x0))\n",
    "x0"
   ]
  },
  {
   "cell_type": "markdown",
   "id": "4bdd2f7c-a5df-481c-b390-c4e5fc2c8b6d",
   "metadata": {},
   "source": [
    "#### 4 - We need to tell Dice which are our coninous (float) columns"
   ]
  },
  {
   "cell_type": "code",
   "execution_count": 9,
   "id": "da4c20ae-715b-450d-8b97-05a703fd6ed9",
   "metadata": {},
   "outputs": [
    {
     "data": {
      "text/plain": [
       "['trans_amount',\n",
       " 'account_balance',\n",
       " 'num_transactions',\n",
       " 'merchant_risk_score',\n",
       " 'customer_age',\n",
       " 'days_since_last_transaction',\n",
       " 'card_decline_rate',\n",
       " 'device_trust_score']"
      ]
     },
     "execution_count": 9,
     "metadata": {},
     "output_type": "execute_result"
    }
   ],
   "source": [
    "#########4 Get floating point columns\n",
    "############################################\n",
    "##all I'm doing here is filtering on the categorical features\n",
    "###Uncomment\n",
    "cont_cols = [x for x in x_train.columns if x not in ['previous_fraud_flag', 'location_mismatch']]\n",
    "cont_cols"
   ]
  },
  {
   "cell_type": "markdown",
   "id": "51a54124-8489-46a8-b9ae-462bf927ffd5",
   "metadata": {},
   "source": [
    "#### 5 - Build and Generate the Dice CF"
   ]
  },
  {
   "cell_type": "code",
   "execution_count": null,
   "id": "9115eb55-11cf-46f8-a55a-fb24159d2f12",
   "metadata": {},
   "outputs": [
    {
     "data": {
      "text/plain": [
       "<dice_ml.explainer_interfaces.dice_random.DiceRandom at 0x125cf1290>"
      ]
     },
     "execution_count": 10,
     "metadata": {},
     "output_type": "execute_result"
    }
   ],
   "source": [
    "#########5.A Dice needs the full dataset: columns + labels\n",
    "############################################\n",
    "#we can create that with pandas concat\n",
    "\n",
    "full_data = pd.concat([x_train, y_train], axis=1)\n",
    "\n",
    "#########5.B Data prep for Dice\n",
    "############################################\n",
    "d = dice_ml.Data(dataframe=full_data,\n",
    "                continuous_features=cont_cols,\n",
    "                outcome_name='is_fraud')\n",
    "\n",
    "#########5.C build the backend for Dice\n",
    "############################################\n",
    "\n",
    "# Pre-trained ML model\n",
    "m = dice_ml.Model(model=model,backend='sklearn')\n",
    "\n",
    "#########5.D Instantiate the dice explanation instance\n",
    "############################################\n",
    "\n",
    "# # DiCE explanation instance\n",
    "exp = dice_ml.Dice(d,m)\n",
    "exp"
   ]
  },
  {
   "cell_type": "code",
   "execution_count": 22,
   "id": "25bd100c",
   "metadata": {},
   "outputs": [
    {
     "name": "stderr",
     "output_type": "stream",
     "text": [
      "/var/folders/t8/kfq9szss0vzgf_1r278c3xxr0000gn/T/ipykernel_29434/1891432039.py:1: SettingWithCopyWarning: \n",
      "A value is trying to be set on a copy of a slice from a DataFrame.\n",
      "Try using .loc[row_indexer,col_indexer] = value instead\n",
      "\n",
      "See the caveats in the documentation: https://pandas.pydata.org/pandas-docs/stable/user_guide/indexing.html#returning-a-view-versus-a-copy\n",
      "  x0['location_mismatch'] = x0['location_mismatch'].astype(int)\n",
      "/var/folders/t8/kfq9szss0vzgf_1r278c3xxr0000gn/T/ipykernel_29434/1891432039.py:2: SettingWithCopyWarning: \n",
      "A value is trying to be set on a copy of a slice from a DataFrame.\n",
      "Try using .loc[row_indexer,col_indexer] = value instead\n",
      "\n",
      "See the caveats in the documentation: https://pandas.pydata.org/pandas-docs/stable/user_guide/indexing.html#returning-a-view-versus-a-copy\n",
      "  x0['previous_fraud_flag'] = x0['previous_fraud_flag'].astype(int)\n"
     ]
    },
    {
     "data": {
      "text/html": [
       "<div>\n",
       "<style scoped>\n",
       "    .dataframe tbody tr th:only-of-type {\n",
       "        vertical-align: middle;\n",
       "    }\n",
       "\n",
       "    .dataframe tbody tr th {\n",
       "        vertical-align: top;\n",
       "    }\n",
       "\n",
       "    .dataframe thead th {\n",
       "        text-align: right;\n",
       "    }\n",
       "</style>\n",
       "<table border=\"1\" class=\"dataframe\">\n",
       "  <thead>\n",
       "    <tr style=\"text-align: right;\">\n",
       "      <th></th>\n",
       "      <th>trans_amount</th>\n",
       "      <th>account_balance</th>\n",
       "      <th>num_transactions</th>\n",
       "      <th>merchant_risk_score</th>\n",
       "      <th>customer_age</th>\n",
       "      <th>days_since_last_transaction</th>\n",
       "      <th>card_decline_rate</th>\n",
       "      <th>device_trust_score</th>\n",
       "      <th>location_mismatch</th>\n",
       "      <th>previous_fraud_flag</th>\n",
       "    </tr>\n",
       "  </thead>\n",
       "  <tbody>\n",
       "    <tr>\n",
       "      <th>2</th>\n",
       "      <td>581.38592</td>\n",
       "      <td>67222.012362</td>\n",
       "      <td>12.0</td>\n",
       "      <td>0.188041</td>\n",
       "      <td>30.0</td>\n",
       "      <td>18.0</td>\n",
       "      <td>0.770089</td>\n",
       "      <td>0.966178</td>\n",
       "      <td>0</td>\n",
       "      <td>0</td>\n",
       "    </tr>\n",
       "  </tbody>\n",
       "</table>\n",
       "</div>"
      ],
      "text/plain": [
       "   trans_amount  account_balance  num_transactions  merchant_risk_score  \\\n",
       "2     581.38592     67222.012362              12.0             0.188041   \n",
       "\n",
       "   customer_age  days_since_last_transaction  card_decline_rate  \\\n",
       "2          30.0                         18.0           0.770089   \n",
       "\n",
       "   device_trust_score  location_mismatch  previous_fraud_flag  \n",
       "2            0.966178                  0                    0  "
      ]
     },
     "execution_count": 22,
     "metadata": {},
     "output_type": "execute_result"
    }
   ],
   "source": [
    "x0['location_mismatch'] = x0['location_mismatch'].astype(int)\n",
    "x0['previous_fraud_flag'] = x0['previous_fraud_flag'].astype(int)\n",
    "x0\n"
   ]
  },
  {
   "cell_type": "code",
   "execution_count": 23,
   "id": "71a23eee-628c-42df-80e0-736f26ab1cfc",
   "metadata": {},
   "outputs": [
    {
     "name": "stderr",
     "output_type": "stream",
     "text": [
      "100%|██████████| 1/1 [00:01<00:00,  1.96s/it]"
     ]
    },
    {
     "name": "stdout",
     "output_type": "stream",
     "text": [
      "Query instance (original outcome : 0)\n"
     ]
    },
    {
     "name": "stderr",
     "output_type": "stream",
     "text": [
      "\n"
     ]
    },
    {
     "data": {
      "text/html": [
       "<div>\n",
       "<style scoped>\n",
       "    .dataframe tbody tr th:only-of-type {\n",
       "        vertical-align: middle;\n",
       "    }\n",
       "\n",
       "    .dataframe tbody tr th {\n",
       "        vertical-align: top;\n",
       "    }\n",
       "\n",
       "    .dataframe thead th {\n",
       "        text-align: right;\n",
       "    }\n",
       "</style>\n",
       "<table border=\"1\" class=\"dataframe\">\n",
       "  <thead>\n",
       "    <tr style=\"text-align: right;\">\n",
       "      <th></th>\n",
       "      <th>trans_amount</th>\n",
       "      <th>account_balance</th>\n",
       "      <th>num_transactions</th>\n",
       "      <th>merchant_risk_score</th>\n",
       "      <th>customer_age</th>\n",
       "      <th>days_since_last_transaction</th>\n",
       "      <th>card_decline_rate</th>\n",
       "      <th>device_trust_score</th>\n",
       "      <th>location_mismatch</th>\n",
       "      <th>previous_fraud_flag</th>\n",
       "      <th>is_fraud</th>\n",
       "    </tr>\n",
       "  </thead>\n",
       "  <tbody>\n",
       "    <tr>\n",
       "      <th>0</th>\n",
       "      <td>581.385925</td>\n",
       "      <td>67222.015625</td>\n",
       "      <td>12.0</td>\n",
       "      <td>0.188041</td>\n",
       "      <td>30.0</td>\n",
       "      <td>18.0</td>\n",
       "      <td>0.770089</td>\n",
       "      <td>0.966178</td>\n",
       "      <td>0</td>\n",
       "      <td>0</td>\n",
       "      <td>0</td>\n",
       "    </tr>\n",
       "  </tbody>\n",
       "</table>\n",
       "</div>"
      ],
      "text/plain": [
       "   trans_amount  account_balance  num_transactions  merchant_risk_score  \\\n",
       "0    581.385925     67222.015625              12.0             0.188041   \n",
       "\n",
       "   customer_age  days_since_last_transaction  card_decline_rate  \\\n",
       "0          30.0                         18.0           0.770089   \n",
       "\n",
       "   device_trust_score  location_mismatch  previous_fraud_flag  is_fraud  \n",
       "0            0.966178                  0                    0         0  "
      ]
     },
     "metadata": {},
     "output_type": "display_data"
    },
    {
     "name": "stdout",
     "output_type": "stream",
     "text": [
      "\n",
      "Diverse Counterfactual set (new outcome: 1)\n"
     ]
    },
    {
     "data": {
      "text/html": [
       "<div>\n",
       "<style scoped>\n",
       "    .dataframe tbody tr th:only-of-type {\n",
       "        vertical-align: middle;\n",
       "    }\n",
       "\n",
       "    .dataframe tbody tr th {\n",
       "        vertical-align: top;\n",
       "    }\n",
       "\n",
       "    .dataframe thead th {\n",
       "        text-align: right;\n",
       "    }\n",
       "</style>\n",
       "<table border=\"1\" class=\"dataframe\">\n",
       "  <thead>\n",
       "    <tr style=\"text-align: right;\">\n",
       "      <th></th>\n",
       "      <th>trans_amount</th>\n",
       "      <th>account_balance</th>\n",
       "      <th>num_transactions</th>\n",
       "      <th>merchant_risk_score</th>\n",
       "      <th>customer_age</th>\n",
       "      <th>days_since_last_transaction</th>\n",
       "      <th>card_decline_rate</th>\n",
       "      <th>device_trust_score</th>\n",
       "      <th>location_mismatch</th>\n",
       "      <th>previous_fraud_flag</th>\n",
       "      <th>is_fraud</th>\n",
       "    </tr>\n",
       "  </thead>\n",
       "  <tbody>\n",
       "    <tr>\n",
       "      <th>0</th>\n",
       "      <td>581.38592</td>\n",
       "      <td>67222.014632</td>\n",
       "      <td>12.0</td>\n",
       "      <td>0.188041</td>\n",
       "      <td>30.0</td>\n",
       "      <td>18.0</td>\n",
       "      <td>0.770089</td>\n",
       "      <td>0.002304</td>\n",
       "      <td>0</td>\n",
       "      <td>0</td>\n",
       "      <td>1</td>\n",
       "    </tr>\n",
       "    <tr>\n",
       "      <th>1</th>\n",
       "      <td>581.38592</td>\n",
       "      <td>67222.014632</td>\n",
       "      <td>15.6</td>\n",
       "      <td>0.188041</td>\n",
       "      <td>30.0</td>\n",
       "      <td>18.0</td>\n",
       "      <td>0.770089</td>\n",
       "      <td>0.002304</td>\n",
       "      <td>0</td>\n",
       "      <td>0</td>\n",
       "      <td>1</td>\n",
       "    </tr>\n",
       "  </tbody>\n",
       "</table>\n",
       "</div>"
      ],
      "text/plain": [
       "   trans_amount  account_balance  num_transactions  merchant_risk_score  \\\n",
       "0     581.38592     67222.014632              12.0             0.188041   \n",
       "1     581.38592     67222.014632              15.6             0.188041   \n",
       "\n",
       "   customer_age  days_since_last_transaction  card_decline_rate  \\\n",
       "0          30.0                         18.0           0.770089   \n",
       "1          30.0                         18.0           0.770089   \n",
       "\n",
       "   device_trust_score  location_mismatch  previous_fraud_flag  is_fraud  \n",
       "0            0.002304                  0                    0         1  \n",
       "1            0.002304                  0                    0         1  "
      ]
     },
     "metadata": {},
     "output_type": "display_data"
    }
   ],
   "source": [
    "#########5.E Generate the CF\n",
    "############################################\n",
    "\n",
    "counterfactuals = exp.generate_counterfactuals(\n",
    "    x0,\n",
    "    total_CFs=2,  # Generate more counterfactuals\n",
    "    desired_class=\"opposite\")\n",
    "\n",
    "######5.F Visualize it\n",
    "#########################################\n",
    "\n",
    "# Visualize the counterfactual explanations\n",
    "counterfactuals.visualize_as_dataframe(show_only_changes=False)"
   ]
  },
  {
   "cell_type": "markdown",
   "id": "dddec22b",
   "metadata": {},
   "source": []
  }
 ],
 "metadata": {
  "kernelspec": {
   "display_name": "Python 3",
   "language": "python",
   "name": "python3"
  },
  "language_info": {
   "codemirror_mode": {
    "name": "ipython",
    "version": 3
   },
   "file_extension": ".py",
   "mimetype": "text/x-python",
   "name": "python",
   "nbconvert_exporter": "python",
   "pygments_lexer": "ipython3",
   "version": "3.13.2"
  }
 },
 "nbformat": 4,
 "nbformat_minor": 5
}
