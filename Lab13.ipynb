{
 "cells": [
  {
   "cell_type": "markdown",
   "id": "36764116-9a59-41af-bcd9-77e3d8f33388",
   "metadata": {},
   "source": [
    "#### Lab 13: Auto Regressive Model Quality"
   ]
  },
  {
   "cell_type": "markdown",
   "id": "286bb320-2f85-4c1d-bccc-8f2a3d0cac69",
   "metadata": {},
   "source": [
    "Goal: use some quality metrics on a AR model and explain/interpret your results\n",
    "* Load in an AR model (such as bloom)\n",
    "* Get some input (i.e. AI is important because...)\n",
    "* Do a forward pass to get output\n",
    "* Select some metrics and interpret the model quality\n",
    "* Hint: you might need to use a reference text"
   ]
  },
  {
   "cell_type": "code",
   "execution_count": 1,
   "id": "f160f20b",
   "metadata": {},
   "outputs": [
    {
     "name": "stderr",
     "output_type": "stream",
     "text": [
      "/Library/Frameworks/Python.framework/Versions/3.11/lib/python3.11/site-packages/tqdm/auto.py:21: TqdmWarning: IProgress not found. Please update jupyter and ipywidgets. See https://ipywidgets.readthedocs.io/en/stable/user_install.html\n",
      "  from .autonotebook import tqdm as notebook_tqdm\n"
     ]
    },
    {
     "name": "stdout",
     "output_type": "stream",
     "text": [
      "Prompt: The deepest part of the ocean is\n",
      "Generated: The deepest part of the ocean is the deepest part of the sea\n",
      "Reference: The deepest part of the ocean is Challenger Deep\n"
     ]
    },
    {
     "name": "stderr",
     "output_type": "stream",
     "text": [
      "Some weights of RobertaModel were not initialized from the model checkpoint at roberta-large and are newly initialized: ['roberta.pooler.dense.bias', 'roberta.pooler.dense.weight']\n",
      "You should probably TRAIN this model on a down-stream task to be able to use it for predictions and inference.\n"
     ]
    },
    {
     "name": "stdout",
     "output_type": "stream",
     "text": [
      "\n",
      "BERTScore - Precision: 0.9338, Recall: 0.9233, F1: 0.9285\n",
      "ROUGE-L: 0.6364\n"
     ]
    }
   ],
   "source": [
    "from transformers import AutoTokenizer, AutoModelForCausalLM\n",
    "import torch\n",
    "from bert_score import score as bert_score\n",
    "from rouge_score import rouge_scorer\n",
    "\n",
    "# Step 1: Load model & tokenizer\n",
    "model_name = \"bigscience/bloomz-560m\"\n",
    "tokenizer = AutoTokenizer.from_pretrained(model_name)\n",
    "model = AutoModelForCausalLM.from_pretrained(model_name)\n",
    "\n",
    "# Step 2: Set prompt and get output\n",
    "prompt = \"The deepest part of the ocean is\"\n",
    "inputs = tokenizer(prompt, return_tensors=\"pt\")\n",
    "outputs = model.generate(**inputs, max_new_tokens=30)\n",
    "generated_text = tokenizer.decode(outputs[0], skip_special_tokens=True)\n",
    "\n",
    "# Optional: Define reference text for comparison\n",
    "reference_text = \"The deepest part of the ocean is Challenger Deep\"\n",
    "# Step 3: Print model output\n",
    "print(\"Prompt:\", prompt)\n",
    "print(\"Generated:\", generated_text)\n",
    "print(\"Reference:\", reference_text)\n",
    "\n",
    "# Step 4: BERTScore evaluation\n",
    "P, R, F1 = bert_score([generated_text], [reference_text], lang=\"en\", verbose=False)\n",
    "print(f\"\\nBERTScore - Precision: {P[0]:.4f}, Recall: {R[0]:.4f}, F1: {F1[0]:.4f}\")\n",
    "\n",
    "# Step 5: ROUGE evaluation\n",
    "scorer = rouge_scorer.RougeScorer(['rougeL'], use_stemmer=True)\n",
    "rouge = scorer.score(reference_text, generated_text)\n",
    "print(f\"ROUGE-L: {rouge['rougeL'].fmeasure:.4f}\")\n"
   ]
  }
 ],
 "metadata": {
  "kernelspec": {
   "display_name": "Python 3",
   "language": "python",
   "name": "python3"
  },
  "language_info": {
   "codemirror_mode": {
    "name": "ipython",
    "version": 3
   },
   "file_extension": ".py",
   "mimetype": "text/x-python",
   "name": "python",
   "nbconvert_exporter": "python",
   "pygments_lexer": "ipython3",
   "version": "3.11.4"
  }
 },
 "nbformat": 4,
 "nbformat_minor": 5
}
