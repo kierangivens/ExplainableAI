{
 "cells": [
  {
   "cell_type": "code",
   "execution_count": 1,
   "id": "bfc2f15b-21d8-4b8a-9ad1-89ecd5ff6059",
   "metadata": {},
   "outputs": [],
   "source": [
    "from transformers import pipeline"
   ]
  },
  {
   "cell_type": "code",
   "execution_count": 2,
   "id": "72d5a856-e95e-432c-b195-d73eb1c63345",
   "metadata": {},
   "outputs": [
    {
     "data": {
      "application/vnd.jupyter.widget-view+json": {
       "model_id": "e184a86931bb40c58bb458c356095962",
       "version_major": 2,
       "version_minor": 0
      },
      "text/plain": [
       "config.json:   0%|          | 0.00/768 [00:00<?, ?B/s]"
      ]
     },
     "metadata": {},
     "output_type": "display_data"
    },
    {
     "data": {
      "application/vnd.jupyter.widget-view+json": {
       "model_id": "b91fba4e1a1d4af2b2b49ddb34bb8b23",
       "version_major": 2,
       "version_minor": 0
      },
      "text/plain": [
       "model.safetensors:   0%|          | 0.00/268M [00:00<?, ?B/s]"
      ]
     },
     "metadata": {},
     "output_type": "display_data"
    },
    {
     "data": {
      "application/vnd.jupyter.widget-view+json": {
       "model_id": "8aad1229d44f43f995c03a731b3ee3a9",
       "version_major": 2,
       "version_minor": 0
      },
      "text/plain": [
       "tokenizer_config.json:   0%|          | 0.00/291 [00:00<?, ?B/s]"
      ]
     },
     "metadata": {},
     "output_type": "display_data"
    },
    {
     "data": {
      "application/vnd.jupyter.widget-view+json": {
       "model_id": "ffdbcf5fa6254c03a9b1e6edd721319a",
       "version_major": 2,
       "version_minor": 0
      },
      "text/plain": [
       "vocab.txt:   0%|          | 0.00/232k [00:00<?, ?B/s]"
      ]
     },
     "metadata": {},
     "output_type": "display_data"
    },
    {
     "data": {
      "application/vnd.jupyter.widget-view+json": {
       "model_id": "10c8cdd55d414623b8eadc749441a78c",
       "version_major": 2,
       "version_minor": 0
      },
      "text/plain": [
       "special_tokens_map.json:   0%|          | 0.00/112 [00:00<?, ?B/s]"
      ]
     },
     "metadata": {},
     "output_type": "display_data"
    },
    {
     "name": "stderr",
     "output_type": "stream",
     "text": [
      "Device set to use cpu\n"
     ]
    }
   ],
   "source": [
    "# Load emotion classification pipeline\n",
    "classifier = pipeline(\"text-classification\", model=\"bhadresh-savani/distilbert-base-uncased-emotion\")"
   ]
  },
  {
   "cell_type": "code",
   "execution_count": 3,
   "id": "081951e0-6460-48a6-adbe-7c490afeea51",
   "metadata": {},
   "outputs": [],
   "source": [
    "\n",
    "# Test sentences\n",
    "texts = [\n",
    "    \"I am so happy today! Everything is going great.\",\n",
    "    \"I'm feeling really sad and alone.\",\n",
    "    \"That was an incredibly frustrating experience.\",\n",
    "    \"I feel so loved and appreciated by my friends.\"\n",
    "]"
   ]
  },
  {
   "cell_type": "code",
   "execution_count": 4,
   "id": "adb5254d-0b55-4f48-b3a7-186c606bd087",
   "metadata": {},
   "outputs": [],
   "source": [
    "# Run classification\n",
    "results = classifier(texts)"
   ]
  },
  {
   "cell_type": "code",
   "execution_count": 5,
   "id": "ea97bf30-a9b6-4813-8270-e485ab9e97e4",
   "metadata": {},
   "outputs": [
    {
     "name": "stdout",
     "output_type": "stream",
     "text": [
      "Text: I am so happy today! Everything is going great.\n",
      "Emotion: joy, Confidence: 0.9989\n",
      "\n",
      "Text: I'm feeling really sad and alone.\n",
      "Emotion: sadness, Confidence: 0.9991\n",
      "\n",
      "Text: That was an incredibly frustrating experience.\n",
      "Emotion: joy, Confidence: 0.3241\n",
      "\n",
      "Text: I feel so loved and appreciated by my friends.\n",
      "Emotion: love, Confidence: 0.9949\n",
      "\n"
     ]
    }
   ],
   "source": [
    "# Display results\n",
    "for text, result in zip(texts, results):\n",
    "    print(f\"Text: {text}\\nEmotion: {result['label']}, Confidence: {result['score']:.4f}\\n\")"
   ]
  }
 ],
 "metadata": {
  "kernelspec": {
   "display_name": "Python 3 (ipykernel)",
   "language": "python",
   "name": "python3"
  },
  "language_info": {
   "codemirror_mode": {
    "name": "ipython",
    "version": 3
   },
   "file_extension": ".py",
   "mimetype": "text/x-python",
   "name": "python",
   "nbconvert_exporter": "python",
   "pygments_lexer": "ipython3",
   "version": "3.10.11"
  }
 },
 "nbformat": 4,
 "nbformat_minor": 5
}
